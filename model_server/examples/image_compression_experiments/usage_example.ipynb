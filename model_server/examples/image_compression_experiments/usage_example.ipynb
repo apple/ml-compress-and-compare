{
 "cells": [
  {
   "cell_type": "markdown",
   "id": "9de1c3c4-8f57-4aaf-a3dd-3baf5255482b",
   "metadata": {},
   "source": [
    "# Compress and Compare Image Examples\n",
    "Example usage to run compression experiments for CIFAR-10, CelebA, and ImageNet models."
   ]
  },
  {
   "cell_type": "code",
   "execution_count": 1,
   "id": "a42cd509-4182-49fc-a0e1-d31e386f2149",
   "metadata": {},
   "outputs": [],
   "source": [
    "%load_ext autoreload\n",
    "%autoreload 2"
   ]
  },
  {
   "cell_type": "code",
   "execution_count": 2,
   "id": "c579f759-8d86-45da-be6d-17bb15bb9f77",
   "metadata": {},
   "outputs": [],
   "source": [
    "import os\n",
    "import models\n",
    "import resnet\n",
    "import compression\n",
    "\n",
    "from compression_performance import analyze_performance\n",
    "from experiments import run_compression_experiment"
   ]
  },
  {
   "cell_type": "code",
   "execution_count": 3,
   "id": "87052a8d-902f-4ece-8e5b-5294a09b56d5",
   "metadata": {},
   "outputs": [],
   "source": [
    "OUTPUT_DIR = './results/usage_examples'\n",
    "CIFAR_DIR = os.path.join(OUTPUT_DIR, 'cifar')\n",
    "CELEBA_DIR = os.path.join(OUTPUT_DIR, 'celeba')\n",
    "IMAGENET_DIR = os.path.join(OUTPUT_DIR, 'imagenet')"
   ]
  },
  {
   "cell_type": "code",
   "execution_count": 4,
   "id": "19ad5cbe-1c42-4d42-93c5-99af1d14cc50",
   "metadata": {},
   "outputs": [],
   "source": [
    "for dir in [OUTPUT_DIR, CIFAR_DIR, CELEBA_DIR, IMAGENET_DIR]:\n",
    "    os.makedirs(OUTPUT_DIR, exist_ok=True)"
   ]
  },
  {
   "cell_type": "markdown",
   "id": "dee345aa-1b20-456c-9a78-3196bef8194b",
   "metadata": {},
   "source": [
    "## Training and Compressing\n",
    "Examples in Compress and Compare contain multiple compression experiments. Each compression experiment is run via ``experiments.run_compression_experiment``. Example experiments are shown below."
   ]
  },
  {
   "cell_type": "markdown",
   "id": "8bf6740e-d296-4337-8821-8117795c42ba",
   "metadata": {},
   "source": [
    "#### CIFAR-10 ResNet20 model with 50% magnitude pruning, recalibration, and retraining"
   ]
  },
  {
   "cell_type": "code",
   "execution_count": null,
   "id": "92e36bcb-b98b-4864-8c27-41eec6768755",
   "metadata": {},
   "outputs": [],
   "source": [
    "cifar_gradientpruned_model = run_compression_experiment(\n",
    "    dataset_name='cifar10', \n",
    "    model_fn=resnet.resnet20, \n",
    "    output_dir=CIFAR_DIR,\n",
    "    checkpoint_name=None, \n",
    "    compression_fns=[compression.gradientpruning],\n",
    "    compression_amounts=[0.5],\n",
    "    train_num_epochs=1, # 1 used as example; use 200 in experiments\n",
    "    retrain_num_epochs=[1], # 1 used as example; use 50 in experiments\n",
    "    recalibrate=True,\n",
    "    device='cuda',\n",
    "    model_fn_kwargs={'num_classes': 10, 'quantized': False},\n",
    "    verbose=True, \n",
    "    iterative_compression=False,\n",
    "    allow_weight_updates=False\n",
    ")"
   ]
  },
  {
   "cell_type": "markdown",
   "id": "2b137e8f-2c16-42cd-8cc9-7689a75deb86",
   "metadata": {},
   "source": [
    "#### CelebA ResNet18 with iterative 95% magnitude pruning"
   ]
  },
  {
   "cell_type": "code",
   "execution_count": null,
   "id": "b5b587d6-fe25-4e53-a2b3-8e94a8d91313",
   "metadata": {},
   "outputs": [],
   "source": [
    "celeba_iterativemagnitudepruned_model = run_compression_experiment(\n",
    "    dataset_name='celeba', \n",
    "    model_fn=models.load_model, \n",
    "    output_dir=CELEBA_DIR,\n",
    "    checkpoint_name=None, \n",
    "    compression_fns=[compression.magnitudepruning, compression.magnitudepruning],\n",
    "    compression_amounts=[0.95, 0.95],\n",
    "    train_num_epochs=1,\n",
    "    retrain_num_epochs=[1, 1], # 2 used as example; use 15 in experiments\n",
    "    recalibrate=False,\n",
    "    device='cuda',\n",
    "    model_fn_kwargs={'name': 'resnet18', 'pretrained': False},\n",
    "    verbose=True, \n",
    "    iterative_compression=True,\n",
    "    allow_weight_updates=True\n",
    ")"
   ]
  },
  {
   "cell_type": "markdown",
   "id": "d0964068-126b-4c87-890c-997c7efbdf27",
   "metadata": {},
   "source": [
    "#### ImageNet MobileNet V2 model with 8-bit quantization"
   ]
  },
  {
   "cell_type": "code",
   "execution_count": null,
   "id": "2ef2f717-6871-4c74-8bd7-39c79c08cfb5",
   "metadata": {},
   "outputs": [],
   "source": [
    "imagenet_int8quantized_model = run_compression_experiment(\n",
    "    dataset_name='imagenet', \n",
    "    model_fn=models.load_model, \n",
    "    output_dir=IMAGENET_DIR,\n",
    "    checkpoint_name=None, \n",
    "    compression_fns=[compression.quantize],\n",
    "    compression_amounts=['int8'],\n",
    "    train_num_epochs=0,\n",
    "    retrain_num_epochs=[],\n",
    "    recalibrate=False,\n",
    "    device='cpu',\n",
    "    model_fn_kwargs={'name': 'mobilenet_v2', 'pretrained': True},\n",
    "    verbose=True, \n",
    "    iterative_compression=False,\n",
    "    allow_weight_updates=False\n",
    ")"
   ]
  },
  {
   "cell_type": "markdown",
   "id": "2d0502de-20af-472c-9553-346ecb68efcc",
   "metadata": {},
   "source": [
    "## Computing Performance Metrics\n",
    "Compress and Compare relies on performance metrics and model outputs computed for each model. Metrics are computed using ``compression_performance.analyze_performance``. Example usage is shown below"
   ]
  },
  {
   "cell_type": "code",
   "execution_count": null,
   "id": "82b65c6a-94f6-4fc6-a1c9-03edd4353ed5",
   "metadata": {
    "scrolled": true
   },
   "outputs": [],
   "source": [
    "analyze_performance(CIFAR_DIR, CIFAR_DIR, 'cifar10');"
   ]
  },
  {
   "cell_type": "code",
   "execution_count": null,
   "id": "9f6125c5-4999-4f46-a5d2-691607e12084",
   "metadata": {},
   "outputs": [],
   "source": []
  }
 ],
 "metadata": {
  "kernelspec": {
   "display_name": "compression",
   "language": "python",
   "name": "compression"
  },
  "language_info": {
   "codemirror_mode": {
    "name": "ipython",
    "version": 3
   },
   "file_extension": ".py",
   "mimetype": "text/x-python",
   "name": "python",
   "nbconvert_exporter": "python",
   "pygments_lexer": "ipython3",
   "version": "3.8.16"
  }
 },
 "nbformat": 4,
 "nbformat_minor": 5
}
